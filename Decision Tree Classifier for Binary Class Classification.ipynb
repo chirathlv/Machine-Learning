{
 "cells": [
  {
   "cell_type": "markdown",
   "metadata": {},
   "source": [
    "# Decision Tree Classifier (CART) Implementation"
   ]
  },
  {
   "cell_type": "code",
   "execution_count": 52,
   "metadata": {},
   "outputs": [],
   "source": [
    "# Here is a Toy Dataset\n",
    "dataset =[[2.771244718,1.784783929,0],\n",
    "          [1.728571309,1.169761413,0],\n",
    "          [3.678319846,2.81281357,0],\n",
    "          [3.961043357,2.61995032,0],\n",
    "          [2.999208922,2.209014212,0],\n",
    "          [7.497545867,3.162953546,1],\n",
    "          [9.00220326,3.339047188,1],\n",
    "          [7.444542326,0.476683375,1],\n",
    "          [10.12493903,3.234550982,1],\n",
    "          [6.642287351,3.319983761,1]]"
   ]
  },
  {
   "cell_type": "code",
   "execution_count": 53,
   "metadata": {},
   "outputs": [],
   "source": [
    "def test_split(data, index, value):\n",
    "    left, right = [], []\n",
    "    \n",
    "    for row in data:\n",
    "        if row[index] < value:\n",
    "            left.append(row)\n",
    "        else:\n",
    "            right.append(row)\n",
    "            \n",
    "    return [left, right]"
   ]
  },
  {
   "cell_type": "code",
   "execution_count": 90,
   "metadata": {},
   "outputs": [],
   "source": [
    "def gini(groups):\n",
    "    # load left and right groups\n",
    "    left, right = groups[0], groups[1] \n",
    "    \n",
    "    # Sample size of each groups for probability calculation\n",
    "    num_left_samples = float(len(left))\n",
    "    num_right_samples = float(len(right))\n",
    "    num_total_samples = num_left_samples + num_right_samples\n",
    "    \n",
    "    # Each class samples in each groups\n",
    "    num_left_class_0 = [row[-1] for row in left].count(0) # Class 0 samples in left\n",
    "    num_left_class_1 = [row[-1] for row in left].count(1) # Class 1 samples in left\n",
    "    num_right_class_0 = [row[-1] for row in right].count(0) # Class 0 samples in right\n",
    "    num_right_class_1 = [row[-1] for row in right].count(1) # Class 1 samples in right\n",
    "    \n",
    "    # Probability scores\n",
    "    left_class_0_prob, left_class_1_prob, right_class_0_prob, right_class_1_prob = 0.0, 0.0, 0.0, 0.0\n",
    "    left_total_score, right_total_score = 0.0, 0.0\n",
    "    \n",
    "    # check if the left samples are empty\n",
    "    if not num_left_samples:\n",
    "        pass\n",
    "    else:\n",
    "        left_class_0_prob = num_left_class_0 / num_left_samples\n",
    "        left_class_1_prob = num_left_class_1 / num_left_samples\n",
    "        left_total_score = left_class_0_prob**2 + left_class_1_prob**2 # Take the total square probabilities\n",
    "    \n",
    "    # Check if the right samples are empty\n",
    "    if not num_right_samples:\n",
    "        pass\n",
    "    else:\n",
    "        right_class_0_prob = num_right_class_0 / num_right_samples\n",
    "        right_class_1_prob = num_right_class_1 / num_right_samples\n",
    "        right_total_score = right_class_0_prob**2 + right_class_1_prob**2 # Take the total square probabilities\n",
    "    \n",
    "    # Calculate Gini score for each groups\n",
    "    left_gini_score = (1 - left_total_score)*num_left_samples / num_total_samples\n",
    "    right_gini_score = (1 - right_total_score)*num_right_samples / num_total_samples\n",
    "    \n",
    "    return left_gini_score + right_gini_score"
   ]
  },
  {
   "cell_type": "code",
   "execution_count": 93,
   "metadata": {},
   "outputs": [],
   "source": [
    "def best_split(train, lowest_gini=100.0, gini_score=0.0):\n",
    "    \n",
    "    # Looping through all the values in each column except class column\n",
    "    for col in range(len(train[0])-1):\n",
    "        for row in train:\n",
    "            groups = test_split(train, col, row[col]) # split into groups based on each value\n",
    "            gini_score = gini(groups) # Calc Gini score\n",
    "            \n",
    "            if gini_score < lowest_gini:\n",
    "                lowest_gini = gini_score # Find the lowest Gini\n",
    "                best_index, best_value, best_group = col, row[col], groups\n",
    "                \n",
    "    return {\"index\": best_index, \"val\": best_value, \"sub-tree\": best_group}"
   ]
  },
  {
   "cell_type": "code",
   "execution_count": 56,
   "metadata": {},
   "outputs": [],
   "source": [
    "def build_tree():\n",
    "    pass"
   ]
  },
  {
   "cell_type": "code",
   "execution_count": 57,
   "metadata": {},
   "outputs": [],
   "source": [
    "def fit():\n",
    "    pass"
   ]
  },
  {
   "cell_type": "code",
   "execution_count": 58,
   "metadata": {},
   "outputs": [],
   "source": [
    "def predict():\n",
    "    pass"
   ]
  },
  {
   "cell_type": "code",
   "execution_count": 59,
   "metadata": {},
   "outputs": [],
   "source": [
    "p = []\n",
    "for i in dataset:\n",
    "    p.append(i[-1])"
   ]
  },
  {
   "cell_type": "code",
   "execution_count": 60,
   "metadata": {},
   "outputs": [
    {
     "data": {
      "text/plain": [
       "[0, 0, 0, 0, 0, 1, 1, 1, 1, 1]"
      ]
     },
     "execution_count": 60,
     "metadata": {},
     "output_type": "execute_result"
    }
   ],
   "source": [
    "p"
   ]
  },
  {
   "cell_type": "code",
   "execution_count": 61,
   "metadata": {},
   "outputs": [
    {
     "data": {
      "text/plain": [
       "5"
      ]
     },
     "execution_count": 61,
     "metadata": {},
     "output_type": "execute_result"
    }
   ],
   "source": [
    "p.count(0)"
   ]
  },
  {
   "cell_type": "code",
   "execution_count": 62,
   "metadata": {},
   "outputs": [],
   "source": [
    "x = 9\n",
    "if x == 9:\n",
    "    pass\n",
    "else:\n",
    "    print(\"got it\")"
   ]
  },
  {
   "cell_type": "code",
   "execution_count": 86,
   "metadata": {},
   "outputs": [],
   "source": [
    "gr = test_split(dataset, 0, 6.642287351)"
   ]
  },
  {
   "cell_type": "code",
   "execution_count": 87,
   "metadata": {},
   "outputs": [
    {
     "name": "stdout",
     "output_type": "stream",
     "text": [
      "1.0 0.0 0.0 1.0\n"
     ]
    },
    {
     "data": {
      "text/plain": [
       "0.0"
      ]
     },
     "execution_count": 87,
     "metadata": {},
     "output_type": "execute_result"
    }
   ],
   "source": [
    "gini(gr)"
   ]
  },
  {
   "cell_type": "code",
   "execution_count": 88,
   "metadata": {},
   "outputs": [
    {
     "data": {
      "text/plain": [
       "[[2.771244718, 1.784783929, 0],\n",
       " [1.728571309, 1.169761413, 0],\n",
       " [3.678319846, 2.81281357, 0],\n",
       " [3.961043357, 2.61995032, 0],\n",
       " [2.999208922, 2.209014212, 0]]"
      ]
     },
     "execution_count": 88,
     "metadata": {},
     "output_type": "execute_result"
    }
   ],
   "source": [
    "gr[0]"
   ]
  },
  {
   "cell_type": "code",
   "execution_count": 89,
   "metadata": {},
   "outputs": [
    {
     "data": {
      "text/plain": [
       "[[7.497545867, 3.162953546, 1],\n",
       " [9.00220326, 3.339047188, 1],\n",
       " [7.444542326, 0.476683375, 1],\n",
       " [10.12493903, 3.234550982, 1],\n",
       " [6.642287351, 3.319983761, 1]]"
      ]
     },
     "execution_count": 89,
     "metadata": {},
     "output_type": "execute_result"
    }
   ],
   "source": [
    "gr[1]"
   ]
  },
  {
   "cell_type": "code",
   "execution_count": 94,
   "metadata": {},
   "outputs": [
    {
     "data": {
      "text/plain": [
       "{'index': 0,\n",
       " 'val': 6.642287351,\n",
       " 'sub-tree': [[[2.771244718, 1.784783929, 0],\n",
       "   [1.728571309, 1.169761413, 0],\n",
       "   [3.678319846, 2.81281357, 0],\n",
       "   [3.961043357, 2.61995032, 0],\n",
       "   [2.999208922, 2.209014212, 0]],\n",
       "  [[7.497545867, 3.162953546, 1],\n",
       "   [9.00220326, 3.339047188, 1],\n",
       "   [7.444542326, 0.476683375, 1],\n",
       "   [10.12493903, 3.234550982, 1],\n",
       "   [6.642287351, 3.319983761, 1]]]}"
      ]
     },
     "execution_count": 94,
     "metadata": {},
     "output_type": "execute_result"
    }
   ],
   "source": [
    "best_split(dataset)"
   ]
  },
  {
   "cell_type": "code",
   "execution_count": null,
   "metadata": {},
   "outputs": [],
   "source": []
  }
 ],
 "metadata": {
  "kernelspec": {
   "display_name": "Python 3",
   "language": "python",
   "name": "python3"
  },
  "language_info": {
   "codemirror_mode": {
    "name": "ipython",
    "version": 3
   },
   "file_extension": ".py",
   "mimetype": "text/x-python",
   "name": "python",
   "nbconvert_exporter": "python",
   "pygments_lexer": "ipython3",
   "version": "3.7.9"
  }
 },
 "nbformat": 4,
 "nbformat_minor": 4
}
