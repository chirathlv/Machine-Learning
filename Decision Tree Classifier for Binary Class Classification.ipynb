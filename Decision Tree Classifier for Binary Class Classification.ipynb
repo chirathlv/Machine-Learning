{
 "cells": [
  {
   "cell_type": "markdown",
   "metadata": {},
   "source": [
    "# Decision Tree Classifier (CART) Implementation"
   ]
  },
  {
   "cell_type": "code",
   "execution_count": 52,
   "metadata": {},
   "outputs": [],
   "source": [
    "# Here is a Toy Dataset\n",
    "dataset =[[2.771244718,1.784783929,0],\n",
    "          [1.728571309,1.169761413,0],\n",
    "          [3.678319846,2.81281357,0],\n",
    "          [3.961043357,2.61995032,0],\n",
    "          [2.999208922,2.209014212,0],\n",
    "          [7.497545867,3.162953546,1],\n",
    "          [9.00220326,3.339047188,1],\n",
    "          [7.444542326,0.476683375,1],\n",
    "          [10.12493903,3.234550982,1],\n",
    "          [6.642287351,3.319983761,1]]"
   ]
  },
  {
   "cell_type": "code",
   "execution_count": 53,
   "metadata": {},
   "outputs": [],
   "source": [
    "def test_split(data, index, value):\n",
    "    left, right = [], []\n",
    "    \n",
    "    for row in data:\n",
    "        if row[index] < value:\n",
    "            left.append(row)\n",
    "        else:\n",
    "            right.append(row)\n",
    "            \n",
    "    return [left, right]"
   ]
  },
  {
   "cell_type": "code",
   "execution_count": 90,
   "metadata": {},
   "outputs": [],
   "source": [
    "def gini(groups):\n",
    "    # load left and right groups\n",
    "    left, right = groups[0], groups[1] \n",
    "    \n",
    "    # Sample size of each groups for probability calculation\n",
    "    num_left_samples = float(len(left))\n",
    "    num_right_samples = float(len(right))\n",
    "    num_total_samples = num_left_samples + num_right_samples\n",
    "    \n",
    "    # Each class samples in each groups\n",
    "    num_left_class_0 = [row[-1] for row in left].count(0) # Class 0 samples in left\n",
    "    num_left_class_1 = [row[-1] for row in left].count(1) # Class 1 samples in left\n",
    "    num_right_class_0 = [row[-1] for row in right].count(0) # Class 0 samples in right\n",
    "    num_right_class_1 = [row[-1] for row in right].count(1) # Class 1 samples in right\n",
    "    \n",
    "    # Probability scores\n",
    "    left_class_0_prob, left_class_1_prob, right_class_0_prob, right_class_1_prob = 0.0, 0.0, 0.0, 0.0\n",
    "    left_total_score, right_total_score = 0.0, 0.0\n",
    "    \n",
    "    # check if the left samples are empty\n",
    "    if not num_left_samples:\n",
    "        pass\n",
    "    else:\n",
    "        left_class_0_prob = num_left_class_0 / num_left_samples\n",
    "        left_class_1_prob = num_left_class_1 / num_left_samples\n",
    "        left_total_score = left_class_0_prob**2 + left_class_1_prob**2 # Take the total square probabilities\n",
    "    \n",
    "    # Check if the right samples are empty\n",
    "    if not num_right_samples:\n",
    "        pass\n",
    "    else:\n",
    "        right_class_0_prob = num_right_class_0 / num_right_samples\n",
    "        right_class_1_prob = num_right_class_1 / num_right_samples\n",
    "        right_total_score = right_class_0_prob**2 + right_class_1_prob**2 # Take the total square probabilities\n",
    "    \n",
    "    # Calculate Gini score for each groups\n",
    "    left_gini_score = (1 - left_total_score)*num_left_samples / num_total_samples\n",
    "    right_gini_score = (1 - right_total_score)*num_right_samples / num_total_samples\n",
    "    \n",
    "    return left_gini_score + right_gini_score"
   ]
  },
  {
   "cell_type": "code",
   "execution_count": 97,
   "metadata": {},
   "outputs": [],
   "source": [
    "def best_split(train, lowest_gini=100.0, gini_score=0.0):\n",
    "    \n",
    "    # Looping through all the values in each column except class column\n",
    "    for col in range(len(train[0])-1):\n",
    "        for row in train:\n",
    "            groups = test_split(train, col, row[col]) # split into groups based on each value\n",
    "            gini_score = gini(groups) # Calc Gini score\n",
    "            \n",
    "            # Check if the lowest gini is found\n",
    "            if gini_score < lowest_gini:\n",
    "                lowest_gini = gini_score # Find the lowest Gini\n",
    "                best_index, best_value, best_group = col, row[col], groups # Take the best split based values\n",
    "                \n",
    "    return {\"index\": best_index, \"val\": best_value, \"gini\": lowest_gini, \"sub-tree\": best_group}"
   ]
  },
  {
   "cell_type": "code",
   "execution_count": 104,
   "metadata": {},
   "outputs": [],
   "source": [
    "def leaf_node(group):\n",
    "    class_vals = [row[-1] for row in group] # Take the class values in the group\n",
    "    return max(set(class_vals), key=class_vals.count) # Return the most frequent class in this group"
   ]
  },
  {
   "cell_type": "code",
   "execution_count": 113,
   "metadata": {},
   "outputs": [],
   "source": [
    "def build_tree(node, max_depth, min_samples, depth=0):\n",
    "    # Take the best split from the passing node\n",
    "    left, right = best_split(node[\"sub-tree\"])\n",
    "    \n",
    "    # Remove the sub_tree since did not decide yet further split or make it as a leaf node \n",
    "    del(node[\"sub-tree\"])\n",
    "    \n",
    "    # Check if the left or right groups are empty if so they become leaf node\n",
    "    if not left or not right:\n",
    "        node[\"left\"] = node[\"right\"] = leaf_node(left+right) # passing all data since one group is empty\n",
    "    \n",
    "    # check if the max_depth is reached, if so left and right become leaf node\n",
    "    # No more further spliting is needed\n",
    "    if depth >= max_depth:\n",
    "        node[\"left\"] = leaf_node(left)\n",
    "        node[\"right\"] - leaf_node(right)\n",
    "        \n",
    "    # checking min_samples before split, if less then no spilt needed and become leaf node\n",
    "    # otherwise further splitting is required\n",
    "    if len(left) <= min_samples:\n",
    "        node[\"left\"] = leaf_node(left)\n",
    "    else:\n",
    "        # Adding a sub-tree to the left\n",
    "        node[\"left\"] = best_split(left)\n",
    "        # Build the left sub-tree\n",
    "        build_tree(node[\"left\"], max_depth, min_samples, depth+1)\n",
    "        \n",
    "    # checking min_samples before split, if less then no spilt needed and become leaf node\n",
    "    # otherwise further splitting is required\n",
    "    if len(right) <= min_samples:\n",
    "        node[\"right\"] = leaf_node(right)\n",
    "    else:\n",
    "        # Adding a sub-tree to the left\n",
    "        node[\"right\"] = best_split(right)\n",
    "        # Build the left sub-tree\n",
    "        build_tree(node[\"right\"], max_depth, min_samples, depth+1)"
   ]
  },
  {
   "cell_type": "code",
   "execution_count": 115,
   "metadata": {},
   "outputs": [],
   "source": [
    "def fit(train):\n",
    "    # Find the root node first\n",
    "    root_node = best_split(train)\n",
    "    \n",
    "    # Passing root node to build the tree\n",
    "    build_tree(root_node, max_depth=2, min_samples=1, depth=0)\n",
    "    \n",
    "    return build_tree"
   ]
  },
  {
   "cell_type": "code",
   "execution_count": 58,
   "metadata": {},
   "outputs": [],
   "source": [
    "def predict():\n",
    "    pass"
   ]
  },
  {
   "cell_type": "code",
   "execution_count": 116,
   "metadata": {},
   "outputs": [
    {
     "ename": "ValueError",
     "evalue": "too many values to unpack (expected 2)",
     "output_type": "error",
     "traceback": [
      "\u001b[1;31m---------------------------------------------------------------------------\u001b[0m",
      "\u001b[1;31mValueError\u001b[0m                                Traceback (most recent call last)",
      "\u001b[1;32m<ipython-input-116-ba620ba7d530>\u001b[0m in \u001b[0;36m<module>\u001b[1;34m\u001b[0m\n\u001b[1;32m----> 1\u001b[1;33m \u001b[0mfit\u001b[0m\u001b[1;33m(\u001b[0m\u001b[0mdataset\u001b[0m\u001b[1;33m)\u001b[0m\u001b[1;33m\u001b[0m\u001b[1;33m\u001b[0m\u001b[0m\n\u001b[0m",
      "\u001b[1;32m<ipython-input-115-e994f290a285>\u001b[0m in \u001b[0;36mfit\u001b[1;34m(train)\u001b[0m\n\u001b[0;32m      4\u001b[0m \u001b[1;33m\u001b[0m\u001b[0m\n\u001b[0;32m      5\u001b[0m     \u001b[1;31m# Passing root node to build the tree\u001b[0m\u001b[1;33m\u001b[0m\u001b[1;33m\u001b[0m\u001b[1;33m\u001b[0m\u001b[0m\n\u001b[1;32m----> 6\u001b[1;33m     \u001b[0mbuild_tree\u001b[0m\u001b[1;33m(\u001b[0m\u001b[0mroot_node\u001b[0m\u001b[1;33m,\u001b[0m \u001b[0mmax_depth\u001b[0m\u001b[1;33m=\u001b[0m\u001b[1;36m2\u001b[0m\u001b[1;33m,\u001b[0m \u001b[0mmin_samples\u001b[0m\u001b[1;33m=\u001b[0m\u001b[1;36m1\u001b[0m\u001b[1;33m,\u001b[0m \u001b[0mdepth\u001b[0m\u001b[1;33m=\u001b[0m\u001b[1;36m0\u001b[0m\u001b[1;33m)\u001b[0m\u001b[1;33m\u001b[0m\u001b[1;33m\u001b[0m\u001b[0m\n\u001b[0m\u001b[0;32m      7\u001b[0m \u001b[1;33m\u001b[0m\u001b[0m\n\u001b[0;32m      8\u001b[0m     \u001b[1;32mreturn\u001b[0m \u001b[0mbuild_tree\u001b[0m\u001b[1;33m\u001b[0m\u001b[1;33m\u001b[0m\u001b[0m\n",
      "\u001b[1;32m<ipython-input-113-e97fd39ae795>\u001b[0m in \u001b[0;36mbuild_tree\u001b[1;34m(node, max_depth, min_samples, depth)\u001b[0m\n\u001b[0;32m      1\u001b[0m \u001b[1;32mdef\u001b[0m \u001b[0mbuild_tree\u001b[0m\u001b[1;33m(\u001b[0m\u001b[0mnode\u001b[0m\u001b[1;33m,\u001b[0m \u001b[0mmax_depth\u001b[0m\u001b[1;33m,\u001b[0m \u001b[0mmin_samples\u001b[0m\u001b[1;33m,\u001b[0m \u001b[0mdepth\u001b[0m\u001b[1;33m=\u001b[0m\u001b[1;36m0\u001b[0m\u001b[1;33m)\u001b[0m\u001b[1;33m:\u001b[0m\u001b[1;33m\u001b[0m\u001b[1;33m\u001b[0m\u001b[0m\n\u001b[0;32m      2\u001b[0m     \u001b[1;31m# Take the best split from the passing node\u001b[0m\u001b[1;33m\u001b[0m\u001b[1;33m\u001b[0m\u001b[1;33m\u001b[0m\u001b[0m\n\u001b[1;32m----> 3\u001b[1;33m     \u001b[0mleft\u001b[0m\u001b[1;33m,\u001b[0m \u001b[0mright\u001b[0m \u001b[1;33m=\u001b[0m \u001b[0mbest_split\u001b[0m\u001b[1;33m(\u001b[0m\u001b[0mnode\u001b[0m\u001b[1;33m[\u001b[0m\u001b[1;34m\"sub-tree\"\u001b[0m\u001b[1;33m]\u001b[0m\u001b[1;33m)\u001b[0m\u001b[1;33m\u001b[0m\u001b[1;33m\u001b[0m\u001b[0m\n\u001b[0m\u001b[0;32m      4\u001b[0m \u001b[1;33m\u001b[0m\u001b[0m\n\u001b[0;32m      5\u001b[0m     \u001b[1;31m# Remove the sub_tree since did not decide yet further split or make it as a leaf node\u001b[0m\u001b[1;33m\u001b[0m\u001b[1;33m\u001b[0m\u001b[1;33m\u001b[0m\u001b[0m\n",
      "\u001b[1;31mValueError\u001b[0m: too many values to unpack (expected 2)"
     ]
    }
   ],
   "source": [
    "fit(dataset)"
   ]
  },
  {
   "cell_type": "code",
   "execution_count": null,
   "metadata": {},
   "outputs": [],
   "source": []
  }
 ],
 "metadata": {
  "kernelspec": {
   "display_name": "Python 3",
   "language": "python",
   "name": "python3"
  },
  "language_info": {
   "codemirror_mode": {
    "name": "ipython",
    "version": 3
   },
   "file_extension": ".py",
   "mimetype": "text/x-python",
   "name": "python",
   "nbconvert_exporter": "python",
   "pygments_lexer": "ipython3",
   "version": "3.7.9"
  }
 },
 "nbformat": 4,
 "nbformat_minor": 4
}
