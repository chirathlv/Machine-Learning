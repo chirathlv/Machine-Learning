{
 "cells": [
  {
   "cell_type": "markdown",
   "metadata": {},
   "source": [
    "# Facial Express Recognition using Logistic Regression"
   ]
  },
  {
   "cell_type": "code",
   "execution_count": 82,
   "metadata": {},
   "outputs": [],
   "source": [
    "# import packages\n",
    "import sys\n",
    "import numpy as np\n",
    "import pandas as pd\n",
    "import matplotlib.pyplot as plt\n",
    "from sklearn.utils import shuffle\n",
    "from texttable import Texttable\n",
    "%matplotlib inline"
   ]
  },
  {
   "cell_type": "code",
   "execution_count": 9,
   "metadata": {},
   "outputs": [],
   "source": [
    "# load the data\n",
    "df = pd.read_csv(\"..\\\\..\\\\DataSet\\\\fer2013.csv\")"
   ]
  },
  {
   "cell_type": "code",
   "execution_count": 10,
   "metadata": {},
   "outputs": [
    {
     "data": {
      "text/html": [
       "<div>\n",
       "<style scoped>\n",
       "    .dataframe tbody tr th:only-of-type {\n",
       "        vertical-align: middle;\n",
       "    }\n",
       "\n",
       "    .dataframe tbody tr th {\n",
       "        vertical-align: top;\n",
       "    }\n",
       "\n",
       "    .dataframe thead th {\n",
       "        text-align: right;\n",
       "    }\n",
       "</style>\n",
       "<table border=\"1\" class=\"dataframe\">\n",
       "  <thead>\n",
       "    <tr style=\"text-align: right;\">\n",
       "      <th></th>\n",
       "      <th>emotion</th>\n",
       "      <th>pixels</th>\n",
       "      <th>Usage</th>\n",
       "    </tr>\n",
       "  </thead>\n",
       "  <tbody>\n",
       "    <tr>\n",
       "      <th>0</th>\n",
       "      <td>0</td>\n",
       "      <td>70 80 82 72 58 58 60 63 54 58 60 48 89 115 121...</td>\n",
       "      <td>Training</td>\n",
       "    </tr>\n",
       "    <tr>\n",
       "      <th>1</th>\n",
       "      <td>0</td>\n",
       "      <td>151 150 147 155 148 133 111 140 170 174 182 15...</td>\n",
       "      <td>Training</td>\n",
       "    </tr>\n",
       "    <tr>\n",
       "      <th>2</th>\n",
       "      <td>2</td>\n",
       "      <td>231 212 156 164 174 138 161 173 182 200 106 38...</td>\n",
       "      <td>Training</td>\n",
       "    </tr>\n",
       "    <tr>\n",
       "      <th>3</th>\n",
       "      <td>4</td>\n",
       "      <td>24 32 36 30 32 23 19 20 30 41 21 22 32 34 21 1...</td>\n",
       "      <td>Training</td>\n",
       "    </tr>\n",
       "    <tr>\n",
       "      <th>4</th>\n",
       "      <td>6</td>\n",
       "      <td>4 0 0 0 0 0 0 0 0 0 0 0 3 15 23 28 48 50 58 84...</td>\n",
       "      <td>Training</td>\n",
       "    </tr>\n",
       "  </tbody>\n",
       "</table>\n",
       "</div>"
      ],
      "text/plain": [
       "   emotion                                             pixels     Usage\n",
       "0        0  70 80 82 72 58 58 60 63 54 58 60 48 89 115 121...  Training\n",
       "1        0  151 150 147 155 148 133 111 140 170 174 182 15...  Training\n",
       "2        2  231 212 156 164 174 138 161 173 182 200 106 38...  Training\n",
       "3        4  24 32 36 30 32 23 19 20 30 41 21 22 32 34 21 1...  Training\n",
       "4        6  4 0 0 0 0 0 0 0 0 0 0 0 3 15 23 28 48 50 58 84...  Training"
      ]
     },
     "execution_count": 10,
     "metadata": {},
     "output_type": "execute_result"
    }
   ],
   "source": [
    "df.head()"
   ]
  },
  {
   "cell_type": "code",
   "execution_count": 11,
   "metadata": {},
   "outputs": [
    {
     "data": {
      "text/plain": [
       "(35887, 3)"
      ]
     },
     "execution_count": 11,
     "metadata": {},
     "output_type": "execute_result"
    }
   ],
   "source": [
    "df.shape"
   ]
  },
  {
   "cell_type": "code",
   "execution_count": 12,
   "metadata": {},
   "outputs": [
    {
     "data": {
      "text/plain": [
       "emotion        7\n",
       "pixels     34034\n",
       "Usage          3\n",
       "dtype: int64"
      ]
     },
     "execution_count": 12,
     "metadata": {},
     "output_type": "execute_result"
    }
   ],
   "source": [
    "# Number of unique classes \n",
    "df.nunique()"
   ]
  },
  {
   "cell_type": "code",
   "execution_count": 13,
   "metadata": {},
   "outputs": [
    {
     "data": {
      "text/plain": [
       "Training       28709\n",
       "PrivateTest     3589\n",
       "PublicTest      3589\n",
       "Name: Usage, dtype: int64"
      ]
     },
     "execution_count": 13,
     "metadata": {},
     "output_type": "execute_result"
    }
   ],
   "source": [
    "# Usage column classes\n",
    "df[\"Usage\"].value_counts()"
   ]
  },
  {
   "cell_type": "code",
   "execution_count": 106,
   "metadata": {},
   "outputs": [],
   "source": [
    "# Adding Bias term\n",
    "df[\"ones\"] = 1"
   ]
  },
  {
   "cell_type": "code",
   "execution_count": 107,
   "metadata": {},
   "outputs": [
    {
     "name": "stdout",
     "output_type": "stream",
     "text": [
      "(4431, 4) (546, 4)\n"
     ]
    }
   ],
   "source": [
    "# Train and Test Split\n",
    "df_train = df[df.Usage == \"Training\"]\n",
    "df_test = df[df.Usage == \"PrivateTest\"]\n",
    "\n",
    "# Since Binary class classificaiton only choose data belongs 0 and 1 class\n",
    "df_train_0 = df_train[df_train.emotion==0]\n",
    "df_train_1 = df_train[df_train.emotion==1]\n",
    "df_test_0 = df_test[df_test.emotion==0]\n",
    "df_test_1 = df_test[df_test.emotion==1]\n",
    "\n",
    "# concatenate\n",
    "df_train = pd.concat([df_train_0, df_train_1], axis=0)\n",
    "df_test = pd.concat([df_test_0, df_test_1], axis=0)\n",
    "\n",
    "print(df_train.shape, df_test.shape)"
   ]
  },
  {
   "cell_type": "code",
   "execution_count": 108,
   "metadata": {},
   "outputs": [],
   "source": [
    "def normalizePixels(pic):\n",
    "    p = np.array([float(i)/255.0 for i in pic.split(\" \")])\n",
    "    return p"
   ]
  },
  {
   "cell_type": "code",
   "execution_count": 109,
   "metadata": {},
   "outputs": [],
   "source": [
    "# convert the pixel array to a Matrix\n",
    "def convertToMatrix(pic):\n",
    "    pic = pic.reshape(48,48)\n",
    "    return pic"
   ]
  },
  {
   "cell_type": "code",
   "execution_count": 110,
   "metadata": {},
   "outputs": [],
   "source": [
    "# print the photo\n",
    "def getPhoto(m, reaction):\n",
    "    emotion={\n",
    "        0: \"Angry\",\n",
    "        1: \"Disgust\",\n",
    "        2: \"Fear\",\n",
    "        3: \"Happy\",\n",
    "        4: \"Sad\",\n",
    "        5: \"Surprise\",\n",
    "        6: \"Neutral\"\n",
    "    }\n",
    "    plt.title(emotion[reaction]+\" Face\")\n",
    "    plt.imshow(convertToMatrix(m))"
   ]
  },
  {
   "cell_type": "code",
   "execution_count": 111,
   "metadata": {},
   "outputs": [],
   "source": [
    "# Get normalized feature vector\n",
    "Xtrain = df_train.apply(lambda x: normalizePixels(x[\"pixels\"]), axis=1).to_numpy() # train\n",
    "Xtest = df_test.apply(lambda x: normalizePixels(x[\"pixels\"]), axis=1).to_numpy() # test\n",
    "\n",
    "# Get the target\n",
    "Ytrain = df_train.emotion.to_numpy() # train\n",
    "Ytest = df_test.emotion.to_numpy() # test"
   ]
  },
  {
   "cell_type": "code",
   "execution_count": 112,
   "metadata": {},
   "outputs": [
    {
     "name": "stdout",
     "output_type": "stream",
     "text": [
      "(4431,) (546,)\n"
     ]
    }
   ],
   "source": [
    "print(Xtrain.shape, Xtest.shape)"
   ]
  },
  {
   "cell_type": "code",
   "execution_count": 113,
   "metadata": {},
   "outputs": [],
   "source": [
    "# Flat the pixel array\n",
    "Xtrain = np.vstack(Xtrain.reshape(-1)) # Take each arry inside Xtrain and Flatten the array\n",
    "Xtest = np.vstack(Xtest.reshape(-1)) # np.ravel also does the same as .reshape(-1)"
   ]
  },
  {
   "cell_type": "code",
   "execution_count": 114,
   "metadata": {},
   "outputs": [
    {
     "name": "stdout",
     "output_type": "stream",
     "text": [
      "(4431, 2304) (546, 2304)\n"
     ]
    }
   ],
   "source": [
    "print(Xtrain.shape, Xtest.shape)"
   ]
  },
  {
   "cell_type": "code",
   "execution_count": 115,
   "metadata": {},
   "outputs": [
    {
     "name": "stdout",
     "output_type": "stream",
     "text": [
      "Class 0 samples:  3995\n",
      "Class 1 samples:  436\n",
      "Class Ratio:  9.0\n"
     ]
    }
   ],
   "source": [
    "# Check the class ratio in Training data for both classes\n",
    "print(\"Class 0 samples: \", Xtrain[Ytrain==0].shape[0])\n",
    "print(\"Class 1 samples: \", Xtrain[Ytrain==1].shape[0])\n",
    "print(\"Class Ratio: \", np.round(Xtrain[Ytrain==0].shape[0] / Xtrain[Ytrain==1].shape[0]))"
   ]
  },
  {
   "cell_type": "code",
   "execution_count": 116,
   "metadata": {},
   "outputs": [
    {
     "name": "stdout",
     "output_type": "stream",
     "text": [
      "(7919, 2304) (7919,)\n"
     ]
    }
   ],
   "source": [
    "# Treat the imbalnceness of the classes by oversampling the lower class\n",
    "lower_class = Xtrain[Ytrain==1]\n",
    "X_repeat = np.repeat(lower_class, 8, axis=0) # Repeat 8 times\n",
    "y_repeat = np.array([1]*X_repeat.shape[0])\n",
    "\n",
    "# Concatenate to Original XTrain\n",
    "Xtrain = np.concatenate((Xtrain, X_repeat))\n",
    "Ytrain = np.concatenate((Ytrain, y_repeat))\n",
    "\n",
    "print(Xtrain.shape, Ytrain.shape)"
   ]
  },
  {
   "cell_type": "code",
   "execution_count": 117,
   "metadata": {},
   "outputs": [],
   "source": [
    "# Shuffle Data before training\n",
    "Xtrain, Ytrain = shuffle(Xtrain, Ytrain)"
   ]
  },
  {
   "cell_type": "code",
   "execution_count": 118,
   "metadata": {},
   "outputs": [
    {
     "data": {
      "image/png": "[encoded data removed]",
      "text/plain": [
       "<Figure size 432x288 with 1 Axes>"
      ]
     },
     "metadata": {
      "needs_background": "light"
     },
     "output_type": "display_data"
    }
   ],
   "source": [
    "# print a sample photo\n",
    "getPhoto(Xtrain[Ytrain==0][1], Ytrain[Ytrain==0][1])\n",
    "#getPhoto(Xtrain[Ytrain==1][3000], Ytrain[Ytrain==1][3000])"
   ]
  },
  {
   "cell_type": "code",
   "execution_count": 119,
   "metadata": {},
   "outputs": [],
   "source": [
    "def sigmoid(z):\n",
    "    return 1 / (1 + np.exp(-z))"
   ]
  },
  {
   "cell_type": "code",
   "execution_count": 120,
   "metadata": {},
   "outputs": [],
   "source": [
    "def cost(y, a):\n",
    "    return -np.mean(y*np.log(a)+(1-y)*np.log(1-a))"
   ]
  },
  {
   "cell_type": "code",
   "execution_count": 121,
   "metadata": {},
   "outputs": [],
   "source": [
    "def update_rule(x, w, error, lambda_=0.1):\n",
    "    w -= lr*(np.dot(x.T, error) + lambda_*w)\n",
    "    return w"
   ]
  },
  {
   "cell_type": "code",
   "execution_count": 122,
   "metadata": {},
   "outputs": [],
   "source": [
    "def forward(x,w):\n",
    "    return sigmoid(np.dot(x,w))"
   ]
  },
  {
   "cell_type": "code",
   "execution_count": 123,
   "metadata": {},
   "outputs": [],
   "source": [
    "def applyGD(x, y, x_test, y_test, w, lr, iterations):\n",
    "    \n",
    "    c_train, c_test = [], []\n",
    "    for i in range(iterations):\n",
    "        a = forward(x,w)\n",
    "        a_test = forward(x_test,w)\n",
    "        \n",
    "        error = a-y\n",
    "        w = update_rule(x, w, error)\n",
    "        \n",
    "        c_train.append(cost(y,a))\n",
    "        c_test.append(cost(y_test,a_test))\n",
    "        \n",
    "        sys.stdout.write(\"\\rIteration: {} | Training Cost: {} | Test Cost: {}\".format(i+1, str(cost(y,a))[:6], str(cost(y_test,a_test))[:6]))\n",
    "        sys.stdout.flush()\n",
    "        \n",
    "    return c_train, c_test, w"
   ]
  },
  {
   "cell_type": "code",
   "execution_count": 124,
   "metadata": {},
   "outputs": [],
   "source": [
    "def accuracy(y, a):\n",
    "    return np.mean(y==a)"
   ]
  },
  {
   "cell_type": "code",
   "execution_count": 125,
   "metadata": {},
   "outputs": [],
   "source": [
    "# Confussion Matrix\n",
    "def confussionMatrix(Ytest, yhat):\n",
    "    TP, FP, TN, FN = 0,0,0,0\n",
    "    for i,j in zip(Ytest, yhat):\n",
    "        TP += 1 if (i==0 and j==0) else 0\n",
    "        FP += 1 if (i==1 and j==0) else 0\n",
    "        TN += 1 if (i==1 and j==1) else 0\n",
    "        FN += 1 if (i==0 and j==1) else 0\n",
    "\n",
    "    t = Texttable()\n",
    "    t.add_rows([[\"\", \"Actual\", \"Actual\"], [\"\",\"Class 0\", \"Class 1\"],[\"Class 0\", \"TP=\"+str(TP), \"FP=\"+str(FP)],[\"Class 1\", \"FN=\"+str(FN), \"TN=\"+str(TN)]], header=True)\n",
    "\n",
    "    print(t.draw())"
   ]
  },
  {
   "cell_type": "code",
   "execution_count": null,
   "metadata": {},
   "outputs": [
    {
     "name": "stdout",
     "output_type": "stream",
     "text": [
      "Iteration: 1075 | Training Cost: 0.5955 | Test Cost: 0.6317"
     ]
    }
   ],
   "source": [
    "# Apply Gradient Descent\n",
    "w = np.random.randn(Xtrain.shape[1]) / np.sqrt(Xtrain.shape[1])\n",
    "lr = 0.000001\n",
    "iterations = 100000\n",
    "\n",
    "c_train, c_test, w = applyGD(Xtrain, Ytrain, Xtest, Ytest, w, lr, iterations)"
   ]
  },
  {
   "cell_type": "code",
   "execution_count": 60,
   "metadata": {},
   "outputs": [
    {
     "data": {
      "image/png": "[encoded data removed]",
      "text/plain": [
       "<Figure size 720x720 with 1 Axes>"
      ]
     },
     "metadata": {
      "needs_background": "light"
     },
     "output_type": "display_data"
    }
   ],
   "source": [
    "plt.figure(figsize=(10,10))\n",
    "plt.title(\"Train vs Test Cost\", fontsize=15)\n",
    "plt.plot(c_train, label=\"Training Cost\")\n",
    "plt.plot(c_test, label=\"Test Cost\")\n",
    "plt.annotate(str(c_train[-1]), [np.where(c_train==c_train[-1])[0][0],c_train[-1]])\n",
    "plt.annotate(str(c_test[-1]), [np.where(c_test==c_test[-1])[0][0],c_test[-1]])\n",
    "plt.xlabel(\"Iterations\", fontsize=15)\n",
    "plt.ylabel(\"Cost\", fontsize=15)\n",
    "plt.legend(fontsize=15)\n",
    "plt.show()"
   ]
  },
  {
   "cell_type": "code",
   "execution_count": 105,
   "metadata": {},
   "outputs": [
    {
     "name": "stdout",
     "output_type": "stream",
     "text": [
      "Training Accuracy 88.36974365450183%\n",
      "Testing Accuracy 76.19047619047619%\n"
     ]
    }
   ],
   "source": [
    "yhat = np.round(sigmoid(np.dot(Xtrain, w)))\n",
    "print(\"Training Accuracy {}%\".format(accuracy(Ytrain, yhat)*100))\n",
    "\n",
    "yhat1 = np.round(sigmoid(np.dot(Xtest, w)))\n",
    "print(\"Testing Accuracy {}%\".format(accuracy(Ytest, yhat1)*100))"
   ]
  },
  {
   "cell_type": "code",
   "execution_count": 103,
   "metadata": {},
   "outputs": [
    {
     "name": "stdout",
     "output_type": "stream",
     "text": [
      "+---------+---------+---------+\n",
      "|         | Actual  | Actual  |\n",
      "+=========+=========+=========+\n",
      "|         | Class 0 | Class 1 |\n",
      "+---------+---------+---------+\n",
      "| Class 0 | TP=385  | FP=24   |\n",
      "+---------+---------+---------+\n",
      "| Class 1 | FN=106  | TN=31   |\n",
      "+---------+---------+---------+\n"
     ]
    }
   ],
   "source": [
    "confussionMatrix(Ytest, yhat1)"
   ]
  },
  {
   "cell_type": "code",
   "execution_count": 104,
   "metadata": {},
   "outputs": [
    {
     "data": {
      "image/png": "[encoded data removed]",
      "text/plain": [
       "<Figure size 432x288 with 1 Axes>"
      ]
     },
     "metadata": {
      "needs_background": "light"
     },
     "output_type": "display_data"
    }
   ],
   "source": [
    "#Testing Learnt Faces\n",
    "photo_ID = 543\n",
    "getPhoto(Xtest[photo_ID], yhat[photo_ID])"
   ]
  },
  {
   "cell_type": "code",
   "execution_count": null,
   "metadata": {},
   "outputs": [],
   "source": []
  }
 ],
 "metadata": {
  "kernelspec": {
   "display_name": "Python 3",
   "language": "python",
   "name": "python3"
  },
  "language_info": {
   "codemirror_mode": {
    "name": "ipython",
    "version": 3
   },
   "file_extension": ".py",
   "mimetype": "text/x-python",
   "name": "python",
   "nbconvert_exporter": "python",
   "pygments_lexer": "ipython3",
   "version": "3.7.9"
  }
 },
 "nbformat": 4,
 "nbformat_minor": 4
}
