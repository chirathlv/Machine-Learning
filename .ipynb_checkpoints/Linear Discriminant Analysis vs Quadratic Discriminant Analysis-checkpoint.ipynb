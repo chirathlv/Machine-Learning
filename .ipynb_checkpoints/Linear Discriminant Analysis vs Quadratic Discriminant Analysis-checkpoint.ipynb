{
 "cells": [
  {
   "cell_type": "markdown",
   "metadata": {},
   "source": [
    "# LDA Implementation"
   ]
  },
  {
   "cell_type": "code",
   "execution_count": 2,
   "metadata": {},
   "outputs": [],
   "source": [
    "# import all the packages\n",
    "import numpy as np\n",
    "import matplotlib.pyplot as plt\n",
    "%matplotlib inline"
   ]
  },
  {
   "cell_type": "code",
   "execution_count": 32,
   "metadata": {},
   "outputs": [],
   "source": [
    "# Create 2 Gaussian Distributions 100x2 matrix with equal number of samples for each class\n",
    "\n",
    "mean_0 = np.array([2,2]) # mean for class 0\n",
    "cov_0 = np.array([[1,0],[0,1]]) # Covariance for class 0\n",
    "mean_1 = np.array([-2,-2]) # mean for class 1\n",
    "cov_1 = np.array([[1,0],[0,1]]) # Covariance for class 1\n",
    "N = 100 # Samples\n",
    "\n",
    "# First Gaussian Cloud\n",
    "X_0 = np.random.multivariate_normal(mean_0, cov_0, N)\n",
    "y_0 = np.array([0]*N)\n",
    "\n",
    "# Second Gaussian Cloud\n",
    "X_1 = np.random.multivariate_normal(mean_1, cov_1, N)\n",
    "y_1 = np.array([1]*N)"
   ]
  },
  {
   "cell_type": "code",
   "execution_count": 33,
   "metadata": {},
   "outputs": [
    {
     "data": {
      "image/png": "[encoded data removed]",
      "text/plain": [
       "<Figure size 576x576 with 1 Axes>"
      ]
     },
     "metadata": {
      "needs_background": "light"
     },
     "output_type": "display_data"
    }
   ],
   "source": [
    "# plot the 2 distributions\n",
    "plt.figure(figsize=(8,8))\n",
    "plt.scatter(X_0[:,0], X_0[:,1], label=\"Class 0\")\n",
    "plt.scatter(X_1[:,0], X_1[:,1], label=\"Class 1\")\n",
    "plt.legend()\n",
    "plt.show()"
   ]
  },
  {
   "cell_type": "code",
   "execution_count": 34,
   "metadata": {},
   "outputs": [],
   "source": [
    "# combine both gaussians\n",
    "X = np.concatenate((X_0, X_1), axis=0)\n",
    "y = np.concatenate((y_0, y_1), axis=0)"
   ]
  },
  {
   "cell_type": "markdown",
   "metadata": {},
   "source": [
    "LDA Decision Function (Linear Decision Boundary)\n",
    "\n",
    "$$\n",
    "f(X) = 2*(\\mu_1^{T} - \\mu_2^{T})\\Sigma^{-1}X + \\mu_2^{T}\\Sigma^{-1}\\mu_2 - \\mu_1^{T}\\Sigma^{-1}\\mu_1 + 2*\\ln(\\frac{P(Y=0)}{P(Y=1)})\n",
    "$$\n",
    "\n",
    "$$\n",
    "\\hat Y = \\left\\{\n",
    "        \\begin{array}\\\\\n",
    "            0 & \\mbox{if} \\ f(X) < 0 \\\\\n",
    "            1 & \\mbox{if} \\ f(X) > 0\n",
    "        \\end{array}\n",
    "        \\right.\n",
    "$$"
   ]
  },
  {
   "cell_type": "code",
   "execution_count": 62,
   "metadata": {},
   "outputs": [],
   "source": [
    "def fit(X, y, cov, mean_1, mean_2):\n",
    "    \n",
    "    P_Y_1 = np.mean(y==1)\n",
    "    P_Y_0 = 1 - P_Y_1\n",
    "    \n",
    "    first_term = 2*np.dot((mean_1-mean_2), np.linalg.solve(cov, X.T))\n",
    "    second_term = np.dot(mean_2.T, np.linalg.solve(cov, mean_2)) - np.dot(mean_1.T, np.linalg.solve(cov, mean_1))\n",
    "    third_term = 2 * np.log(P_Y_0 / P_Y_1)\n",
    "    \n",
    "    fx = first_term + second_term + third_term\n",
    "    \n",
    "    return fx"
   ]
  },
  {
   "cell_type": "code",
   "execution_count": 67,
   "metadata": {},
   "outputs": [
    {
     "data": {
      "text/plain": [
       "array([ 48.70167283,  48.96393266,  43.00777002,  30.80376189,\n",
       "        15.6817994 ,  20.3835847 ,  42.59290897,  39.82046144,\n",
       "        20.5972304 ,  51.08724939,  47.14194619,  33.05565413,\n",
       "        47.7257728 ,  32.44850111,  54.9138465 ,  35.98295342,\n",
       "        27.19157909,  57.97559499,  44.80051255,  12.1738515 ,\n",
       "        27.08378648,  28.08493627,  44.01582313,  30.59514999,\n",
       "        56.32342895,  51.20865845,  38.67491765,  27.07232721,\n",
       "        36.37046417,  24.02815543,  44.4535242 ,  34.42889083,\n",
       "        33.33990632,  45.2278654 ,  27.67010711,  16.52114812,\n",
       "        43.33529508,  27.69827698,  34.49305533,  34.71146335,\n",
       "        29.5446627 ,  51.66987581,  36.87463354,  28.51857936,\n",
       "        37.44912605,  46.00186853,  46.20270902,  49.07558323,\n",
       "        39.12605021,  36.14534337,  52.46198486,  30.72235305,\n",
       "        38.27787473,  54.79762737,  24.63615223,  33.07740223,\n",
       "        31.35532835,  23.47749164,  47.52113424,  33.14860821,\n",
       "        32.78521348,  32.43479505,  45.47938072,  34.89515675,\n",
       "        28.61162249,  38.94895164,  30.87329168,  13.82001643,\n",
       "        41.84658926,  35.14355218,  31.85776809,  51.70123985,\n",
       "        45.26935719,  37.04921898,  40.47468682,  39.88045406,\n",
       "        33.15753283,  20.22051421,  20.84697705,  29.41480888,\n",
       "        14.84231512,  50.78510214,  49.02489139,   8.33549953,\n",
       "        24.75721249,  32.19007767,  39.55526713,  39.09201622,\n",
       "        31.41499073,  12.67154514,  14.19121601,  32.58971368,\n",
       "        43.52836067,  26.40248065,  44.04400372,  26.04318331,\n",
       "        32.1428904 ,  26.98807871,  23.89166231,  37.49496309,\n",
       "       -32.18266781, -41.07826338, -38.54108382, -39.4819417 ,\n",
       "       -33.22737718, -20.20453385, -25.9522838 , -32.86367789,\n",
       "       -21.09365476, -40.84200007, -14.3491347 , -44.90216698,\n",
       "       -33.2903236 , -29.32504932, -37.13915777, -36.05837083,\n",
       "       -21.84884377,  -6.23943297, -33.11957919, -22.70349563,\n",
       "       -52.52680143, -15.79143648, -23.78654943, -24.70675807,\n",
       "       -26.73791035, -44.92328532, -44.14993661, -18.19128227,\n",
       "       -17.60766053, -40.33928637, -39.37417314, -45.76756193,\n",
       "       -35.58304483, -42.25141195, -25.47547852, -40.83562727,\n",
       "        -6.36448088, -47.2363444 , -20.23892467, -20.21914152,\n",
       "       -30.34578666, -40.18801225, -31.65701617, -46.54494609,\n",
       "       -41.27292657, -25.20242617,  -3.22693009, -47.35203089,\n",
       "       -36.9271821 ,  -6.24595654, -21.09012099, -36.22754996,\n",
       "       -38.1036852 , -37.13503774, -35.3089871 , -28.05803508,\n",
       "       -20.21645103, -40.38977909, -35.80043059, -31.29059093,\n",
       "       -21.63686481, -48.50295817, -37.44845121, -30.15668734,\n",
       "       -25.83474147, -39.29426697, -34.17226779, -46.10282661,\n",
       "       -28.46005077, -33.24636527, -28.10769521, -23.62779328,\n",
       "       -31.07863408, -18.17848894, -55.98576517, -34.78602355,\n",
       "       -37.74199897, -28.21098188, -36.17744671, -32.86727587,\n",
       "       -46.37295387, -30.0392743 , -36.84340665, -22.07273575,\n",
       "       -38.28988157, -34.4917251 , -35.96195503, -29.027117  ,\n",
       "       -30.5050536 , -42.00751262, -29.10771933, -41.5614283 ,\n",
       "       -14.39889952, -18.541155  , -41.22480986, -12.0478283 ,\n",
       "       -26.72211081, -13.3182714 , -27.20023563, -54.05254139])"
      ]
     },
     "execution_count": 67,
     "metadata": {},
     "output_type": "execute_result"
    }
   ],
   "source": [
    "fit(X, y, cov_0, mean_0, mean_1)"
   ]
  },
  {
   "cell_type": "code",
   "execution_count": 64,
   "metadata": {},
   "outputs": [
    {
     "data": {
      "text/plain": [
       "(2,)"
      ]
     },
     "execution_count": 64,
     "metadata": {},
     "output_type": "execute_result"
    }
   ],
   "source": [
    "mean_0.shape"
   ]
  },
  {
   "cell_type": "code",
   "execution_count": 65,
   "metadata": {},
   "outputs": [
    {
     "data": {
      "text/plain": [
       "0.5"
      ]
     },
     "execution_count": 65,
     "metadata": {},
     "output_type": "execute_result"
    }
   ],
   "source": [
    "np.mean(y==1)"
   ]
  },
  {
   "cell_type": "code",
   "execution_count": null,
   "metadata": {},
   "outputs": [],
   "source": []
  }
 ],
 "metadata": {
  "kernelspec": {
   "display_name": "Python 3",
   "language": "python",
   "name": "python3"
  },
  "language_info": {
   "codemirror_mode": {
    "name": "ipython",
    "version": 3
   },
   "file_extension": ".py",
   "mimetype": "text/x-python",
   "name": "python",
   "nbconvert_exporter": "python",
   "pygments_lexer": "ipython3",
   "version": "3.7.9"
  }
 },
 "nbformat": 4,
 "nbformat_minor": 4
}
