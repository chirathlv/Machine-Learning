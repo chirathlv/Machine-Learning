{
 "cells": [
  {
   "cell_type": "markdown",
   "metadata": {},
   "source": [
    "# LDA Implementation"
   ]
  },
  {
   "cell_type": "code",
   "execution_count": 2,
   "metadata": {},
   "outputs": [],
   "source": [
    "# import all the packages\n",
    "import numpy as np\n",
    "import matplotlib.pyplot as plt\n",
    "%matplotlib inline"
   ]
  },
  {
   "cell_type": "code",
   "execution_count": 8,
   "metadata": {},
   "outputs": [],
   "source": [
    "# Create 2 Gaussian Distributions 100x2 matrix with equal number of samples for each class\n",
    "\n",
    "mean_0 = [2,2] # mean for class 0\n",
    "cov_0 = [[1,0],[0,1]] # Covariance for class 0\n",
    "mean_1 = [-2,-2] # mean for class 1\n",
    "cov_1 = [[1,0],[0,1]] # Covariance for class 1\n",
    "N = 100 # Samples\n",
    "\n",
    "# First Gaussian Cloud\n",
    "X_0 = np.random.multivariate_normal(mean_0, cov_0, N)\n",
    "y_0 = np.array([0]*N)\n",
    "\n",
    "# Second Gaussian Cloud\n",
    "X_1 = np.random.multivariate_normal(mean_1, cov_1, N)\n",
    "y_1 = np.array([1]*N)"
   ]
  },
  {
   "cell_type": "code",
   "execution_count": 9,
   "metadata": {},
   "outputs": [
    {
     "data": {
      "image/png": "[encoded data removed]",
      "text/plain": [
       "<Figure size 576x576 with 1 Axes>"
      ]
     },
     "metadata": {
      "needs_background": "light"
     },
     "output_type": "display_data"
    }
   ],
   "source": [
    "# plot the 2 distributions\n",
    "plt.figure(figsize=(8,8))\n",
    "plt.scatter(X_0[:,0], X_0[:,1], label=\"Class 0\")\n",
    "plt.scatter(X_1[:,0], X_1[:,1], label=\"Class 1\")\n",
    "plt.legend()\n",
    "plt.show()"
   ]
  },
  {
   "cell_type": "code",
   "execution_count": 14,
   "metadata": {},
   "outputs": [],
   "source": [
    "# combine both gaussians\n",
    "X = np.concatenate((X_0, X_1), axis=0)\n",
    "y = np.concatenate((y_0, y_1), axis=0)"
   ]
  },
  {
   "cell_type": "markdown",
   "metadata": {},
   "source": [
    "LDA Decision Function (Linear Decision Boundary)\n",
    "\n",
    "$$\n",
    "f(X) = 2*(\\mu_1^{T} - \\mu_2^{T})\\Sigma^{-1}X + \\mu_2^{T}\\Sigma^{-1}\\mu_2 - \\mu_1^{T}\\Sigma^{-1}\\mu_1 + 2*\\ln(\\frac{P(Y=0)}{P(Y=1)})\n",
    "$$\n",
    "\n",
    "$$\n",
    "\\hat Y = \\left\\{\n",
    "        \\begin{array}\\\\\n",
    "            0 & \\mbox{if} \\ f(X) < 0 \\\\\n",
    "            1 & \\mbox{if} \\ f(X) > 0\n",
    "        \\end{array}\n",
    "        \\right.\n",
    "$$"
   ]
  },
  {
   "cell_type": "code",
   "execution_count": null,
   "metadata": {},
   "outputs": [],
   "source": []
  }
 ],
 "metadata": {
  "kernelspec": {
   "display_name": "Python 3",
   "language": "python",
   "name": "python3"
  },
  "language_info": {
   "codemirror_mode": {
    "name": "ipython",
    "version": 3
   },
   "file_extension": ".py",
   "mimetype": "text/x-python",
   "name": "python",
   "nbconvert_exporter": "python",
   "pygments_lexer": "ipython3",
   "version": "3.7.9"
  }
 },
 "nbformat": 4,
 "nbformat_minor": 4
}
