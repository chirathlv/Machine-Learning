{
 "cells": [
  {
   "cell_type": "code",
   "execution_count": 1,
   "metadata": {},
   "outputs": [],
   "source": [
    "# import packages\n",
    "import numpy as np\n",
    "import pandas as pd\n",
    "import matplotlib.pyplot as plt\n",
    "%matplotlib inline"
   ]
  },
  {
   "cell_type": "code",
   "execution_count": 2,
   "metadata": {},
   "outputs": [
    {
     "name": "stdout",
     "output_type": "stream",
     "text": [
      "*** No CODEPAGE record, no encoding_override: will use 'ascii'\n"
     ]
    }
   ],
   "source": [
    "# load the data set\n",
    "df = pd.read_excel(\".\\Datasets\\mlr02.xls\", sheet_name=0)"
   ]
  },
  {
   "cell_type": "code",
   "execution_count": 5,
   "metadata": {},
   "outputs": [
    {
     "data": {
      "text/plain": [
       "X1    False\n",
       "X2    False\n",
       "X3    False\n",
       "dtype: bool"
      ]
     },
     "execution_count": 5,
     "metadata": {},
     "output_type": "execute_result"
    }
   ],
   "source": [
    "# checking missing values\n",
    "df.isnull().any()"
   ]
  },
  {
   "cell_type": "code",
   "execution_count": 56,
   "metadata": {},
   "outputs": [],
   "source": [
    "df[\"one\"] = 1.\n",
    "\n",
    "df[\"X2\"] = (df[\"X2\"] - df[\"X2\"].mean()) / df[\"X2\"].std()\n",
    "df[\"X3\"] = (df[\"X3\"] - df[\"X3\"].mean()) / df[\"X3\"].std()"
   ]
  },
  {
   "cell_type": "code",
   "execution_count": 57,
   "metadata": {},
   "outputs": [],
   "source": [
    "# Feature matrix and the traget vector\n",
    "\n",
    "X = df[['one','X2','X3']].to_numpy()\n",
    "y = df[\"X1\"].to_numpy()"
   ]
  },
  {
   "cell_type": "code",
   "execution_count": 58,
   "metadata": {},
   "outputs": [],
   "source": [
    "# update rule\n",
    "def update_rule(w, X, lr, error):\n",
    "    w = w - lr*np.dot(X.T, error)\n",
    "    return w"
   ]
  },
  {
   "cell_type": "code",
   "execution_count": 74,
   "metadata": {},
   "outputs": [],
   "source": [
    "# Gradient descent\n",
    "def GradientDescent(X, y, w, lr, iterations):\n",
    "    cost = []\n",
    "    for i in range(iterations):\n",
    "        Yhat = np.dot(X, w)\n",
    "        error = Yhat - y\n",
    "        w = update_rule(w, X, lr, error)\n",
    "        mse = np.dot(error, error) / X.shape[0]\n",
    "        cost.append(mse)\n",
    "    \n",
    "    return w, cost"
   ]
  },
  {
   "cell_type": "code",
   "execution_count": 83,
   "metadata": {},
   "outputs": [],
   "source": [
    "# Hyperparameters\n",
    "learning_rate = 0.0001\n",
    "iterations = 2000\n",
    "w = np.random.randn(X.shape[1]) / np.sqrt(X.shape[1])\n",
    "\n",
    "W, cost = GradientDescent(X, y, w, learning_rate, iterations)"
   ]
  },
  {
   "cell_type": "code",
   "execution_count": 91,
   "metadata": {},
   "outputs": [],
   "source": [
    "# Predictions\n",
    "Yhat = np.dot(X, w)"
   ]
  },
  {
   "cell_type": "code",
   "execution_count": 84,
   "metadata": {},
   "outputs": [
    {
     "data": {
      "image/png": "[encoded data removed]",
      "text/plain": [
       "<Figure size 432x288 with 1 Axes>"
      ]
     },
     "metadata": {
      "needs_background": "light"
     },
     "output_type": "display_data"
    }
   ],
   "source": [
    "# plot the cost\n",
    "plt.plot(cost, label=\"cost\")\n",
    "plt.legend()\n",
    "plt.show()"
   ]
  },
  {
   "cell_type": "code",
   "execution_count": 92,
   "metadata": {},
   "outputs": [],
   "source": [
    "# R-Squared\n",
    "average = y-np.mean(y)\n",
    "Sum_Square_risidual = np.dot(Yhat, Yhat)\n",
    "Sum_Square_total = np.dot(average,average)\n",
    "R_Squared = 1. - Sum_Square_risidual / Sum_Square_total"
   ]
  },
  {
   "cell_type": "code",
   "execution_count": 93,
   "metadata": {},
   "outputs": [
    {
     "name": "stdout",
     "output_type": "stream",
     "text": [
      "R-squared:  0.9995279587735894\n"
     ]
    }
   ],
   "source": [
    "print(\"R-squared: \", R_Squared)"
   ]
  },
  {
   "cell_type": "code",
   "execution_count": null,
   "metadata": {},
   "outputs": [],
   "source": []
  },
  {
   "cell_type": "code",
   "execution_count": null,
   "metadata": {},
   "outputs": [],
   "source": []
  }
 ],
 "metadata": {
  "kernelspec": {
   "display_name": "Python 3",
   "language": "python",
   "name": "python3"
  },
  "language_info": {
   "codemirror_mode": {
    "name": "ipython",
    "version": 3
   },
   "file_extension": ".py",
   "mimetype": "text/x-python",
   "name": "python",
   "nbconvert_exporter": "python",
   "pygments_lexer": "ipython3",
   "version": "3.7.9"
  }
 },
 "nbformat": 4,
 "nbformat_minor": 4
}
