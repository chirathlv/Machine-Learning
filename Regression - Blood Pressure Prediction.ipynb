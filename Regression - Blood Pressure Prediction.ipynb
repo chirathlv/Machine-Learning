{
 "cells": [
  {
   "cell_type": "code",
   "execution_count": 72,
   "metadata": {},
   "outputs": [],
   "source": [
    "# Import all the packages\n",
    "import pandas as pd\n",
    "import numpy as np\n",
    "import matplotlib.pyplot as plt"
   ]
  },
  {
   "cell_type": "code",
   "execution_count": 73,
   "metadata": {},
   "outputs": [
    {
     "name": "stdout",
     "output_type": "stream",
     "text": [
      "*** No CODEPAGE record, no encoding_override: will use 'ascii'\n"
     ]
    }
   ],
   "source": [
    "# load the data set\n",
    "df = pd.read_excel(\".\\Datasets\\mlr02.xls\", sheet_name=0)"
   ]
  },
  {
   "cell_type": "code",
   "execution_count": 74,
   "metadata": {},
   "outputs": [
    {
     "data": {
      "text/html": [
       "<div>\n",
       "<style scoped>\n",
       "    .dataframe tbody tr th:only-of-type {\n",
       "        vertical-align: middle;\n",
       "    }\n",
       "\n",
       "    .dataframe tbody tr th {\n",
       "        vertical-align: top;\n",
       "    }\n",
       "\n",
       "    .dataframe thead th {\n",
       "        text-align: right;\n",
       "    }\n",
       "</style>\n",
       "<table border=\"1\" class=\"dataframe\">\n",
       "  <thead>\n",
       "    <tr style=\"text-align: right;\">\n",
       "      <th></th>\n",
       "      <th>X1</th>\n",
       "      <th>X2</th>\n",
       "      <th>X3</th>\n",
       "    </tr>\n",
       "  </thead>\n",
       "  <tbody>\n",
       "    <tr>\n",
       "      <th>0</th>\n",
       "      <td>132</td>\n",
       "      <td>52</td>\n",
       "      <td>173</td>\n",
       "    </tr>\n",
       "    <tr>\n",
       "      <th>1</th>\n",
       "      <td>143</td>\n",
       "      <td>59</td>\n",
       "      <td>184</td>\n",
       "    </tr>\n",
       "    <tr>\n",
       "      <th>2</th>\n",
       "      <td>153</td>\n",
       "      <td>67</td>\n",
       "      <td>194</td>\n",
       "    </tr>\n",
       "    <tr>\n",
       "      <th>3</th>\n",
       "      <td>162</td>\n",
       "      <td>73</td>\n",
       "      <td>211</td>\n",
       "    </tr>\n",
       "    <tr>\n",
       "      <th>4</th>\n",
       "      <td>154</td>\n",
       "      <td>64</td>\n",
       "      <td>196</td>\n",
       "    </tr>\n",
       "  </tbody>\n",
       "</table>\n",
       "</div>"
      ],
      "text/plain": [
       "    X1  X2   X3\n",
       "0  132  52  173\n",
       "1  143  59  184\n",
       "2  153  67  194\n",
       "3  162  73  211\n",
       "4  154  64  196"
      ]
     },
     "execution_count": 74,
     "metadata": {},
     "output_type": "execute_result"
    }
   ],
   "source": [
    "df.head()"
   ]
  },
  {
   "cell_type": "code",
   "execution_count": 75,
   "metadata": {},
   "outputs": [],
   "source": [
    "# According to data definiton\n",
    "# X1 = Systolic Blood Pressure\n",
    "# X2 = Age in years\n",
    "# X3 = Weights in pounds"
   ]
  },
  {
   "cell_type": "code",
   "execution_count": 76,
   "metadata": {},
   "outputs": [
    {
     "data": {
      "text/plain": [
       "X1    False\n",
       "X2    False\n",
       "X3    False\n",
       "dtype: bool"
      ]
     },
     "execution_count": 76,
     "metadata": {},
     "output_type": "execute_result"
    }
   ],
   "source": [
    "# Check if any missing values\n",
    "df.isnull().any()"
   ]
  },
  {
   "cell_type": "code",
   "execution_count": 77,
   "metadata": {},
   "outputs": [],
   "source": [
    "# Add ones to dataframe to Act as BIAS\n",
    "df[\"one\"] = 1"
   ]
  },
  {
   "cell_type": "code",
   "execution_count": 97,
   "metadata": {},
   "outputs": [],
   "source": [
    "# Take Feature Matrix and the output vector\n",
    "X_Age = df[[\"X2\", \"one\"]].to_numpy() # Add one column for Bias term\n",
    "X_Weight = df[[\"X3\", \"one\"]].to_numpy() # Add one column for Bias term\n",
    "X = df[[\"X2\", \"X3\", \"one\"]].to_numpy() # Add one column for Bias term\n",
    "y = df[\"X1\"].to_numpy()"
   ]
  },
  {
   "cell_type": "code",
   "execution_count": 79,
   "metadata": {},
   "outputs": [
    {
     "data": {
      "image/png": "[encoded data removed]",
      "text/plain": [
       "<Figure size 432x288 with 2 Axes>"
      ]
     },
     "metadata": {
      "needs_background": "light"
     },
     "output_type": "display_data"
    }
   ],
   "source": [
    "# plot Age vs Systolic Blood preasure\n",
    "fig = plt.figure()\n",
    "fig.add_subplot(121)\n",
    "plt.scatter(X_Age[:,0], y)\n",
    "\n",
    "# plot Weight vs Systolic Blood preasure\n",
    "fig.add_subplot(122)\n",
    "plt.scatter(X_Weight[:,0], y)\n",
    "plt.show()"
   ]
  },
  {
   "cell_type": "markdown",
   "metadata": {},
   "source": [
    "## Model 1"
   ]
  },
  {
   "cell_type": "code",
   "execution_count": 80,
   "metadata": {},
   "outputs": [],
   "source": [
    "# Calculate the W1 for Regression Age vs SBP\n",
    "W1 = np.linalg.solve(np.dot(X_Age.T,X_Age), np.dot(X_Age.T,y))"
   ]
  },
  {
   "cell_type": "code",
   "execution_count": 81,
   "metadata": {},
   "outputs": [],
   "source": [
    "# Regression line\n",
    "Yhat_age = np.dot(X_Age, W1)"
   ]
  },
  {
   "cell_type": "code",
   "execution_count": 82,
   "metadata": {},
   "outputs": [],
   "source": [
    "# R-Squared for Age vs SBP\n",
    "error_age = y-Yhat_age\n",
    "average = y-np.mean(y)\n",
    "\n",
    "R_Squ_Age = 1.0 - np.dot(error_age, error_age) / np.dot(average, average)"
   ]
  },
  {
   "cell_type": "code",
   "execution_count": 83,
   "metadata": {},
   "outputs": [
    {
     "name": "stdout",
     "output_type": "stream",
     "text": [
      "R_Squared for Age vs SBP:  0.9578407208147355\n"
     ]
    }
   ],
   "source": [
    "print(\"R_Squared for Age vs SBP: \", R_Squ_Age)"
   ]
  },
  {
   "cell_type": "code",
   "execution_count": 96,
   "metadata": {},
   "outputs": [
    {
     "data": {
      "image/png": "[encoded data removed]",
      "text/plain": [
       "<Figure size 576x576 with 1 Axes>"
      ]
     },
     "metadata": {
      "needs_background": "light"
     },
     "output_type": "display_data"
    }
   ],
   "source": [
    "# Plot the line on the data -> Because we add the bias terms, line is now Non-linear\n",
    "plt.figure(figsize=(8,8))\n",
    "plt.scatter(X_Age[:,0], y)\n",
    "plt.plot(sorted(X_Age[:,0]), sorted(Yhat))\n",
    "plt.show()"
   ]
  },
  {
   "cell_type": "markdown",
   "metadata": {},
   "source": [
    "## Model 2"
   ]
  },
  {
   "cell_type": "code",
   "execution_count": 84,
   "metadata": {},
   "outputs": [],
   "source": [
    "# Calculate the W2 for Regression Weight vs SBP\n",
    "W2 = np.linalg.solve(np.dot(X_Weight.T,X_Weight), np.dot(X_Weight.T,y))"
   ]
  },
  {
   "cell_type": "code",
   "execution_count": 85,
   "metadata": {},
   "outputs": [],
   "source": [
    "# Regression line\n",
    "Yhat_weight = np.dot(X_Weight, W2)"
   ]
  },
  {
   "cell_type": "code",
   "execution_count": 86,
   "metadata": {},
   "outputs": [],
   "source": [
    "# R-Squared for Age vs SBP\n",
    "error_weight = y-Yhat_weight\n",
    "average = y-np.mean(y)\n",
    "\n",
    "R_Squ_Weight = 1.0 - np.dot(error_weight, error_weight) / np.dot(average, average)"
   ]
  },
  {
   "cell_type": "code",
   "execution_count": 87,
   "metadata": {
    "scrolled": true
   },
   "outputs": [
    {
     "name": "stdout",
     "output_type": "stream",
     "text": [
      "R_Squared for Weight vs SBP:  0.9419952085293065\n"
     ]
    }
   ],
   "source": [
    "print(\"R_Squared for Weight vs SBP: \", R_Squ_Weight)"
   ]
  },
  {
   "cell_type": "code",
   "execution_count": 95,
   "metadata": {},
   "outputs": [
    {
     "data": {
      "image/png": "[encoded data removed]",
      "text/plain": [
       "<Figure size 576x576 with 1 Axes>"
      ]
     },
     "metadata": {
      "needs_background": "light"
     },
     "output_type": "display_data"
    }
   ],
   "source": [
    "# Plot the line on the data -> Because we add the bias terms, line is now Non-linear\n",
    "plt.figure(figsize=(8,8))\n",
    "plt.scatter(X_Weight[:,0], y)\n",
    "plt.plot(sorted(X_Weight[:,0]), sorted(Yhat))\n",
    "plt.show()"
   ]
  },
  {
   "cell_type": "markdown",
   "metadata": {},
   "source": [
    "## Model 3"
   ]
  },
  {
   "cell_type": "code",
   "execution_count": 88,
   "metadata": {},
   "outputs": [],
   "source": [
    "# Calculate the W = (XTX)-1(XTy)\n",
    "W = np.linalg.solve(np.dot(X.T, X), np.dot(X.T, y))"
   ]
  },
  {
   "cell_type": "code",
   "execution_count": 89,
   "metadata": {},
   "outputs": [],
   "source": [
    "# Predicted function\n",
    "Yhat = np.dot(X, W)"
   ]
  },
  {
   "cell_type": "code",
   "execution_count": 90,
   "metadata": {},
   "outputs": [],
   "source": [
    "# Calculate the R-Squared\n",
    "error = (y - Yhat)\n",
    "average = (y - np.mean(y))\n",
    "\n",
    "R_Squared = 1.0 - (np.dot(error, error) / np.dot(average, average))"
   ]
  },
  {
   "cell_type": "code",
   "execution_count": 91,
   "metadata": {},
   "outputs": [
    {
     "name": "stdout",
     "output_type": "stream",
     "text": [
      "R_Squared:  0.9768471041502091\n"
     ]
    }
   ],
   "source": [
    "print(\"R_Squared: \", R_Squared)"
   ]
  },
  {
   "cell_type": "code",
   "execution_count": null,
   "metadata": {},
   "outputs": [],
   "source": []
  },
  {
   "cell_type": "code",
   "execution_count": null,
   "metadata": {},
   "outputs": [],
   "source": []
  }
 ],
 "metadata": {
  "kernelspec": {
   "display_name": "Python 3",
   "language": "python",
   "name": "python3"
  },
  "language_info": {
   "codemirror_mode": {
    "name": "ipython",
    "version": 3
   },
   "file_extension": ".py",
   "mimetype": "text/x-python",
   "name": "python",
   "nbconvert_exporter": "python",
   "pygments_lexer": "ipython3",
   "version": "3.7.9"
  }
 },
 "nbformat": 4,
 "nbformat_minor": 4
}
