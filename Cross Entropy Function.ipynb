{
 "cells": [
  {
   "cell_type": "code",
   "execution_count": 1,
   "metadata": {},
   "outputs": [],
   "source": [
    "# import packages\n",
    "import numpy as np\n",
    "import matplotlib.pyplot as plt\n",
    "%matplotlib inline"
   ]
  },
  {
   "cell_type": "code",
   "execution_count": 2,
   "metadata": {},
   "outputs": [],
   "source": [
    "# Create Data\n",
    "N = 100\n",
    "D = 2\n",
    "\n",
    "# NxD matrix drawn from Gaussian Distribution \n",
    "X = np.random.randn(N,D)\n",
    "\n",
    "X[:50, :] = X[:50, :] - 2*np.ones(D) # Make the first 50 samples to be around mean of -2\n",
    "X[50:, :] = X[50:, :] + 2*np.ones(D) # Make the last 50 samples to be around mean of +2\n",
    "\n",
    "t = np.array([0]*50 + [1]*50) # Target variable first 50 for 0 class and last 50 for 1 class"
   ]
  },
  {
   "cell_type": "code",
   "execution_count": 3,
   "metadata": {},
   "outputs": [
    {
     "data": {
      "image/png": "[encoded data removed]",
      "text/plain": [
       "<Figure size 432x288 with 1 Axes>"
      ]
     },
     "metadata": {
      "needs_background": "light"
     },
     "output_type": "display_data"
    }
   ],
   "source": [
    "# Plotting Data\n",
    "plt.scatter(X[:50,0], X[:50,1]) # First 50\n",
    "plt.scatter(X[50:,0], X[50:,1]) # Last 50\n",
    "plt.show()"
   ]
  },
  {
   "cell_type": "markdown",
   "metadata": {},
   "source": [
    "Cost Entropy Function\n",
    "\n",
    "$$\n",
    "L = -\\sum^N_{i=1}t_i\\log(\\hat y_i) + (1 - t_i)\\log(1 - \\hat y_i)\n",
    "$$"
   ]
  },
  {
   "cell_type": "code",
   "execution_count": 14,
   "metadata": {},
   "outputs": [],
   "source": [
    "def cost(t,Yhat):\n",
    "    L = 0\n",
    "    for i,j in zip(t, Yhat):\n",
    "        L -= i*np.log(j) + (1-i)*np.log(1-j)\n",
    "    return L"
   ]
  },
  {
   "cell_type": "code",
   "execution_count": 15,
   "metadata": {},
   "outputs": [],
   "source": [
    "def sigmoid(z):\n",
    "    return 1.0 / (1 + np.exp(-z))"
   ]
  },
  {
   "cell_type": "code",
   "execution_count": 16,
   "metadata": {},
   "outputs": [
    {
     "name": "stdout",
     "output_type": "stream",
     "text": [
      "8.527596252530248\n"
     ]
    }
   ],
   "source": [
    "w = np.random.randn(D)\n",
    "z = np.dot(X, w)\n",
    "Yhat = sigmoid(z)\n",
    "c = cost(t, Yhat)\n",
    "print(c)"
   ]
  },
  {
   "cell_type": "markdown",
   "metadata": {},
   "source": [
    "## For a Random weight it gives a higher cost"
   ]
  },
  {
   "cell_type": "code",
   "execution_count": 20,
   "metadata": {},
   "outputs": [],
   "source": [
    "# Applying Logistic Regression Closed Form Solution since the Distribution is Gaussian and Variance is almmost the same for both classes"
   ]
  },
  {
   "cell_type": "code",
   "execution_count": 18,
   "metadata": {},
   "outputs": [],
   "source": [
    "sigma = np.diag([np.var(X[:50,0]), np.var(X[:50,1])])\n",
    "W = np.dot(np.array([np.mean(X[50:,0]), np.mean(X[50:,1])]) - np.array([np.mean(X[:50,0]), np.mean(X[:50,1])]), np.linalg.inv(sigma))"
   ]
  },
  {
   "cell_type": "code",
   "execution_count": 19,
   "metadata": {},
   "outputs": [
    {
     "name": "stdout",
     "output_type": "stream",
     "text": [
      "0.03759628083685389\n"
     ]
    }
   ],
   "source": [
    "Z = np.dot(X, W)\n",
    "Yhat_1 = sigmoid(Z)\n",
    "c1 = cost(t, Yhat_1)\n",
    "print(c1)"
   ]
  },
  {
   "cell_type": "markdown",
   "metadata": {},
   "source": [
    "## For an optimized Weight it gives the lowest error"
   ]
  },
  {
   "cell_type": "code",
   "execution_count": null,
   "metadata": {},
   "outputs": [],
   "source": []
  },
  {
   "cell_type": "code",
   "execution_count": null,
   "metadata": {},
   "outputs": [],
   "source": []
  }
 ],
 "metadata": {
  "kernelspec": {
   "display_name": "Python 3",
   "language": "python",
   "name": "python3"
  },
  "language_info": {
   "codemirror_mode": {
    "name": "ipython",
    "version": 3
   },
   "file_extension": ".py",
   "mimetype": "text/x-python",
   "name": "python",
   "nbconvert_exporter": "python",
   "pygments_lexer": "ipython3",
   "version": "3.7.9"
  }
 },
 "nbformat": 4,
 "nbformat_minor": 4
}
