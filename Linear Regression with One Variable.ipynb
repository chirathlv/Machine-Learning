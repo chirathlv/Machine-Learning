{
 "cells": [
  {
   "cell_type": "code",
   "execution_count": 4,
   "metadata": {},
   "outputs": [],
   "source": [
    "# load the pockages\n",
    "import pandas as pd\n",
    "import numpy as np\n",
    "import matplotlib.pyplot as plt\n",
    "import re"
   ]
  },
  {
   "cell_type": "code",
   "execution_count": 207,
   "metadata": {},
   "outputs": [],
   "source": [
    "# Load the Data\n",
    "df = pd.read_csv(\"Linear_Reg_1D.csv\", header=None)"
   ]
  },
  {
   "cell_type": "code",
   "execution_count": 208,
   "metadata": {},
   "outputs": [
    {
     "data": {
      "text/html": [
       "<div>\n",
       "<style scoped>\n",
       "    .dataframe tbody tr th:only-of-type {\n",
       "        vertical-align: middle;\n",
       "    }\n",
       "\n",
       "    .dataframe tbody tr th {\n",
       "        vertical-align: top;\n",
       "    }\n",
       "\n",
       "    .dataframe thead th {\n",
       "        text-align: right;\n",
       "    }\n",
       "</style>\n",
       "<table border=\"1\" class=\"dataframe\">\n",
       "  <thead>\n",
       "    <tr style=\"text-align: right;\">\n",
       "      <th></th>\n",
       "      <th>0</th>\n",
       "      <th>1</th>\n",
       "    </tr>\n",
       "  </thead>\n",
       "  <tbody>\n",
       "    <tr>\n",
       "      <th>0</th>\n",
       "      <td>95.724162</td>\n",
       "      <td>197.179636</td>\n",
       "    </tr>\n",
       "    <tr>\n",
       "      <th>1</th>\n",
       "      <td>35.757619</td>\n",
       "      <td>67.590670</td>\n",
       "    </tr>\n",
       "    <tr>\n",
       "      <th>2</th>\n",
       "      <td>28.816847</td>\n",
       "      <td>60.854133</td>\n",
       "    </tr>\n",
       "    <tr>\n",
       "      <th>3</th>\n",
       "      <td>99.958481</td>\n",
       "      <td>196.907397</td>\n",
       "    </tr>\n",
       "    <tr>\n",
       "      <th>4</th>\n",
       "      <td>66.809748</td>\n",
       "      <td>125.311129</td>\n",
       "    </tr>\n",
       "  </tbody>\n",
       "</table>\n",
       "</div>"
      ],
      "text/plain": [
       "           0           1\n",
       "0  95.724162  197.179636\n",
       "1  35.757619   67.590670\n",
       "2  28.816847   60.854133\n",
       "3  99.958481  196.907397\n",
       "4  66.809748  125.311129"
      ]
     },
     "execution_count": 208,
     "metadata": {},
     "output_type": "execute_result"
    }
   ],
   "source": [
    "df.head()"
   ]
  },
  {
   "cell_type": "code",
   "execution_count": 209,
   "metadata": {},
   "outputs": [
    {
     "data": {
      "text/plain": [
       "1    False\n",
       "2    False\n",
       "dtype: bool"
      ]
     },
     "execution_count": 209,
     "metadata": {},
     "output_type": "execute_result"
    }
   ],
   "source": [
    "# Checking if there's any missing values\n",
    "dataset.isnull().any()"
   ]
  },
  {
   "cell_type": "code",
   "execution_count": 210,
   "metadata": {},
   "outputs": [],
   "source": [
    "# Convert into X, y \n",
    "X = df[0]\n",
    "y = df[1]"
   ]
  },
  {
   "cell_type": "code",
   "execution_count": 211,
   "metadata": {},
   "outputs": [],
   "source": [
    "# Convert into numpy arrays\n",
    "X = X.to_numpy().astype(np.float)\n",
    "y = y.to_numpy().astype(np.float)"
   ]
  },
  {
   "cell_type": "code",
   "execution_count": 212,
   "metadata": {},
   "outputs": [
    {
     "data": {
      "image/png": "[encoded data removed]",
      "text/plain": [
       "<Figure size 432x288 with 1 Axes>"
      ]
     },
     "metadata": {
      "needs_background": "light"
     },
     "output_type": "display_data"
    }
   ],
   "source": [
    "# Plot the data in a scatter plot\n",
    "plt.scatter(X, y)\n",
    "plt.show()"
   ]
  },
  {
   "cell_type": "code",
   "execution_count": 213,
   "metadata": {},
   "outputs": [],
   "source": [
    "# To find the best line need to find the a and b of Yhat = aX + b\n",
    "a = (np.dot(X,y) / X.shape[0] - np.mean(X)*np.mean(y)) / (np.dot(X,X) / X.shape[0] - np.mean(X)*np.mean(X))"
   ]
  },
  {
   "cell_type": "code",
   "execution_count": 214,
   "metadata": {},
   "outputs": [
    {
     "data": {
      "text/plain": [
       "1.9726121674845958"
      ]
     },
     "execution_count": 214,
     "metadata": {},
     "output_type": "execute_result"
    }
   ],
   "source": [
    "# Slope of the best fit line\n",
    "a"
   ]
  },
  {
   "cell_type": "code",
   "execution_count": 215,
   "metadata": {},
   "outputs": [],
   "source": [
    "# Intercept of the line\n",
    "b = (np.dot(X,X) * np.mean(y) / X.shape[0] - np.mean(X)*np.dot(X,y) / X.shape[0]) / (np.dot(X,X) / X.shape[0] - np.mean(X)*np.mean(X))"
   ]
  },
  {
   "cell_type": "code",
   "execution_count": 216,
   "metadata": {},
   "outputs": [
    {
     "data": {
      "text/plain": [
       "2.8644240756601573"
      ]
     },
     "execution_count": 216,
     "metadata": {},
     "output_type": "execute_result"
    }
   ],
   "source": [
    "b"
   ]
  },
  {
   "cell_type": "code",
   "execution_count": 217,
   "metadata": {},
   "outputs": [],
   "source": [
    "# Final Equation\n",
    "Yhat = a*X + b"
   ]
  },
  {
   "cell_type": "code",
   "execution_count": 218,
   "metadata": {},
   "outputs": [
    {
     "data": {
      "image/png": "[encoded data removed]",
      "text/plain": [
       "<Figure size 720x720 with 1 Axes>"
      ]
     },
     "metadata": {
      "needs_background": "light"
     },
     "output_type": "display_data"
    }
   ],
   "source": [
    "# Best fit line on the data\n",
    "plt.figure(figsize=(10,10))\n",
    "plt.scatter(X, y)\n",
    "plt.plot(X, Yhat, 'rd--', linewidth=2, markersize=1)\n",
    "plt.show()"
   ]
  },
  {
   "cell_type": "markdown",
   "metadata": {},
   "source": [
    "R^2 Calculation"
   ]
  },
  {
   "cell_type": "code",
   "execution_count": 219,
   "metadata": {},
   "outputs": [],
   "source": [
    "# Sum of Risiduals\n",
    "Sum_of_Residuals = sum((y-Yhat)**2)"
   ]
  },
  {
   "cell_type": "code",
   "execution_count": 220,
   "metadata": {},
   "outputs": [],
   "source": [
    "# Sum of square total\n",
    "Sum_Square_Total = sum((y-np.mean(y))**2)"
   ]
  },
  {
   "cell_type": "code",
   "execution_count": 221,
   "metadata": {},
   "outputs": [],
   "source": [
    "# R-Squared calculation\n",
    "R_squared = 1.0 - (Sum_of_Residuals / Sum_Square_Total)"
   ]
  },
  {
   "cell_type": "code",
   "execution_count": 222,
   "metadata": {},
   "outputs": [
    {
     "name": "stdout",
     "output_type": "stream",
     "text": [
      "R_squared: 0.9911838202977805\n"
     ]
    }
   ],
   "source": [
    "print(\"R_squared: {}\".format(R_squared))"
   ]
  },
  {
   "cell_type": "markdown",
   "metadata": {},
   "source": [
    "# Moore's Law Problem"
   ]
  },
  {
   "cell_type": "code",
   "execution_count": 40,
   "metadata": {},
   "outputs": [],
   "source": [
    "# Load Transister count (1st column) variable and the Year variable (2nd column) only\n",
    "dataset = pd.read_table(\"moore_law.csv\", usecols=[1,2], header=None)"
   ]
  },
  {
   "cell_type": "code",
   "execution_count": 41,
   "metadata": {},
   "outputs": [],
   "source": [
    "# Independer Variable = Time (2nd column)\n",
    "# Dependent Variable = Transister Count (1st Column)\n",
    "X = dataset[2]\n",
    "y = dataset[1]"
   ]
  },
  {
   "cell_type": "code",
   "execution_count": 42,
   "metadata": {},
   "outputs": [
    {
     "data": {
      "text/plain": [
       "0                   2,300\n",
       "1                   3,500\n",
       "2                   4,500\n",
       "3                   4,100\n",
       "4                   5,000\n",
       "              ...        \n",
       "97          3,990,000,000\n",
       "98          7,100,000,000\n",
       "99      cca 1,750,000,000\n",
       "100    10,000,000,000[37]\n",
       "101    ~7,200,000,000[36]\n",
       "Name: 1, Length: 102, dtype: object"
      ]
     },
     "execution_count": 42,
     "metadata": {},
     "output_type": "execute_result"
    }
   ],
   "source": [
    "y"
   ]
  },
  {
   "cell_type": "code",
   "execution_count": 43,
   "metadata": {},
   "outputs": [],
   "source": [
    "# Data has entries like '1974[7]', 'eeee 10', \"1,000,000\" so removing all of these using RegEx\n",
    "def clean(row):\n",
    "    row = re.sub(r\"[\\(\\[].*?[\\)\\]]\", \"\", row) # Removinig [] and its contents\n",
    "    row = row.replace(\",\",\"\") # Remove Comma\n",
    "    row = re.sub('\\D', '', row) # Remove Non-digit characters like letters\n",
    "    return row"
   ]
  },
  {
   "cell_type": "code",
   "execution_count": 44,
   "metadata": {},
   "outputs": [],
   "source": [
    "# Clean the data using RegEx function\n",
    "X = X.apply(clean)\n",
    "y = y.apply(clean)"
   ]
  },
  {
   "cell_type": "code",
   "execution_count": 45,
   "metadata": {},
   "outputs": [],
   "source": [
    "# Convert into numpy\n",
    "X = X.to_numpy().astype(np.float)\n",
    "y = y.to_numpy().astype(np.float)"
   ]
  },
  {
   "cell_type": "code",
   "execution_count": null,
   "metadata": {},
   "outputs": [],
   "source": []
  },
  {
   "cell_type": "code",
   "execution_count": 46,
   "metadata": {},
   "outputs": [
    {
     "data": {
      "text/plain": [
       "<matplotlib.collections.PathCollection at 0x21fa0ae4e08>"
      ]
     },
     "execution_count": 46,
     "metadata": {},
     "output_type": "execute_result"
    },
    {
     "data": {
      "image/png": "[encoded data removed]",
      "text/plain": [
       "<Figure size 720x720 with 1 Axes>"
      ]
     },
     "metadata": {
      "needs_background": "light"
     },
     "output_type": "display_data"
    }
   ],
   "source": [
    "# plot the graph\n",
    "plt.figure(figsize=(10,10))\n",
    "plt.scatter(X,y)"
   ]
  },
  {
   "cell_type": "code",
   "execution_count": 47,
   "metadata": {},
   "outputs": [],
   "source": [
    "# Converting Polynomial into log so Taking the log of y\n",
    "y_log = np.log(y)"
   ]
  },
  {
   "cell_type": "code",
   "execution_count": 48,
   "metadata": {},
   "outputs": [
    {
     "data": {
      "text/plain": [
       "<matplotlib.collections.PathCollection at 0x21fa0b4d0c8>"
      ]
     },
     "execution_count": 48,
     "metadata": {},
     "output_type": "execute_result"
    },
    {
     "data": {
      "image/png": "[encoded data removed]",
      "text/plain": [
       "<Figure size 720x720 with 1 Axes>"
      ]
     },
     "metadata": {
      "needs_background": "light"
     },
     "output_type": "display_data"
    }
   ],
   "source": [
    "# Ploting the X and y_log\n",
    "plt.figure(figsize=(10,10))\n",
    "plt.scatter(X, y_log)"
   ]
  },
  {
   "cell_type": "code",
   "execution_count": 50,
   "metadata": {},
   "outputs": [
    {
     "data": {
      "text/plain": [
       "(0.3510435733650517, -685.0002843818112)"
      ]
     },
     "execution_count": 50,
     "metadata": {},
     "output_type": "execute_result"
    }
   ],
   "source": [
    "# Calculate the a and b parametes for this dataset\n",
    "a = (np.dot(X,y_log) / X.shape[0] - np.mean(X)*np.mean(y_log)) / (np.mean(X**2) - np.mean(X)**2)\n",
    "b = (np.mean(y_log)*np.mean(X**2) - np.mean(X)*np.dot(X,y_log) / X.shape[0]) / (np.mean(X**2) - np.mean(X)**2)\n",
    "a,b"
   ]
  },
  {
   "cell_type": "code",
   "execution_count": 51,
   "metadata": {},
   "outputs": [],
   "source": [
    "Yhat = a*X + b"
   ]
  },
  {
   "cell_type": "code",
   "execution_count": 53,
   "metadata": {},
   "outputs": [
    {
     "data": {
      "image/png": "[encoded data removed]",
      "text/plain": [
       "<Figure size 720x720 with 1 Axes>"
      ]
     },
     "metadata": {
      "needs_background": "light"
     },
     "output_type": "display_data"
    }
   ],
   "source": [
    "plt.figure(figsize=(10,10))\n",
    "plt.scatter(X, y_log)\n",
    "plt.plot(X, Yhat)\n",
    "plt.show()"
   ]
  },
  {
   "cell_type": "code",
   "execution_count": 59,
   "metadata": {},
   "outputs": [],
   "source": [
    "# Detemining how well the model predict\n",
    "error = y_log - Yhat\n",
    "average = y_log - np.mean(y_log)\n",
    "\n",
    "Sum_Square_Residual = np.dot(error,error)\n",
    "Sum_Square_Total = np.dot(average,average)\n",
    "\n",
    "R_squard = 1 - Sum_Square_Residual / Sum_Square_Total"
   ]
  },
  {
   "cell_type": "code",
   "execution_count": 60,
   "metadata": {},
   "outputs": [
    {
     "data": {
      "text/plain": [
       "0.9529442852285762"
      ]
     },
     "execution_count": 60,
     "metadata": {},
     "output_type": "execute_result"
    }
   ],
   "source": [
    "R_squard"
   ]
  },
  {
   "cell_type": "code",
   "execution_count": 84,
   "metadata": {},
   "outputs": [
    {
     "data": {
      "text/plain": [
       "'\\ny = Transister Count\\nx1 = 1st Year\\nx2 = 2nd year\\n\\nlog(y) = a*x + b\\ny = e^(a*x + b) = e^(ax1)*e^(b) <-- First Year\\n2y = 2 * e^(ax) * e^(b) = e^log(2) * e^(ax1) * e^(b)\\n\\nDouble the Transister count\\n2y = a*x2 + b <-- When Transister get double, Unknown year become x2\\ne^log(2) * e^(ax1) * e^(b) = e^(ax2) + e^(b)\\ne^log(2) * e^(ax1) = e^(ax2)\\nlog(2) + ax1 = ax2\\n\\nSo, x2 = x1 + log(2)/a\\n\\n'"
      ]
     },
     "execution_count": 84,
     "metadata": {},
     "output_type": "execute_result"
    }
   ],
   "source": [
    "# Questing is how many years would take to double the Transister count?\n",
    "\"\"\"\n",
    "y = Transister Count\n",
    "x1 = 1st Year\n",
    "x2 = 2nd year\n",
    "\n",
    "log(y) = a*x + b\n",
    "y = e^(a*x + b) = e^(ax1)*e^(b) <-- First Year\n",
    "2y = 2 * e^(ax) * e^(b) = e^log(2) * e^(ax1) * e^(b)\n",
    "\n",
    "Double the Transister count\n",
    "2y = a*x2 + b <-- When Transister get double, Unknown year become x2\n",
    "e^log(2) * e^(ax1) * e^(b) = e^(ax2) + e^(b)\n",
    "e^log(2) * e^(ax1) = e^(ax2)\n",
    "log(2) + ax1 = ax2\n",
    "\n",
    "So, x2 = x1 + log(2)/a\n",
    "\n",
    "\"\"\""
   ]
  },
  {
   "cell_type": "code",
   "execution_count": 85,
   "metadata": {},
   "outputs": [],
   "source": [
    "# Calculating x2 which will gives number of years will take to double the Transister count\n",
    "time = np.log(2) / a"
   ]
  },
  {
   "cell_type": "code",
   "execution_count": 86,
   "metadata": {},
   "outputs": [
    {
     "name": "stdout",
     "output_type": "stream",
     "text": [
      "Time it takes to double transister count is:  1.9745331723795398\n"
     ]
    }
   ],
   "source": [
    "print(\"Time it takes to double transister count is: \", time)"
   ]
  },
  {
   "cell_type": "markdown",
   "metadata": {},
   "source": [
    "## Almost 2 years will take to double the Transister count according to Moore's Law"
   ]
  },
  {
   "cell_type": "code",
   "execution_count": null,
   "metadata": {},
   "outputs": [],
   "source": []
  },
  {
   "cell_type": "code",
   "execution_count": null,
   "metadata": {},
   "outputs": [],
   "source": []
  }
 ],
 "metadata": {
  "kernelspec": {
   "display_name": "Python 3",
   "language": "python",
   "name": "python3"
  },
  "language_info": {
   "codemirror_mode": {
    "name": "ipython",
    "version": 3
   },
   "file_extension": ".py",
   "mimetype": "text/x-python",
   "name": "python",
   "nbconvert_exporter": "python",
   "pygments_lexer": "ipython3",
   "version": "3.7.9"
  }
 },
 "nbformat": 4,
 "nbformat_minor": 4
}
